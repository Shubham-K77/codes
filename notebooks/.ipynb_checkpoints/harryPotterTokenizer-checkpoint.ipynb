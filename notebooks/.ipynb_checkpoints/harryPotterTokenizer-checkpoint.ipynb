{
 "cells": [
  {
   "cell_type": "markdown",
   "id": "bec14065-debd-4cbb-bddc-27a6c8b702fc",
   "metadata": {},
   "source": [
    "# Importing The Dataset"
   ]
  },
  {
   "cell_type": "markdown",
   "id": "063f2078-a1ac-4abb-a123-00e00f7162bb",
   "metadata": {},
   "source": [
    "<div style=\"background-color: lightgreen; color: green; padding: 10px; border-radius: 5px;\">\n",
    "    Harry Potter And The Chamber of Secrets - By JK Rowling\n",
    "</div>"
   ]
  },
  {
   "cell_type": "markdown",
   "id": "61952130-96b0-4d7f-95d6-583ba1309e56",
   "metadata": {},
   "source": [
    "### Step 1: Reading The Document"
   ]
  },
  {
   "cell_type": "code",
   "execution_count": 40,
   "id": "f74125d1-47a1-48cc-93ad-84e56f412ece",
   "metadata": {},
   "outputs": [
    {
     "name": "stdout",
     "output_type": "stream",
     "text": [
      "The total number of characters:  506149\n",
      "CHAPTER   ONE\n",
      " \n",
      " \n",
      "THE WORST BIRTHDAY\n",
      " \n",
      " \n",
      "Not for the first time, an argument had broken out over br\n"
     ]
    }
   ],
   "source": [
    "with open(\"datasets/harryPotter.txt\", \"r\", encoding=\"utf-8\") as f:\n",
    "    raw_text = f.read()\n",
    "\n",
    "print(\"The total number of characters: \", len(raw_text))\n",
    "print(raw_text[:99])"
   ]
  },
  {
   "cell_type": "markdown",
   "id": "51ddf924-6d67-4087-9168-1295d30bf1ae",
   "metadata": {},
   "source": [
    "**The total number of characters in this document is around 506,147 and the first 100 characters are displayed**"
   ]
  },
  {
   "cell_type": "markdown",
   "id": "440abab9-6179-4ffe-899e-50cc3b33efeb",
   "metadata": {},
   "source": [
    "### Step 2: Converting the characters into tokens [Example]"
   ]
  },
  {
   "cell_type": "markdown",
   "id": "01ed7b04-c1f1-401d-bc1d-02e756a327b9",
   "metadata": {},
   "source": [
    "<div style=\"background-color: lightgreen; color: green; padding: 10px; border-radius: 5px;\">\n",
    "    Using an example dataset before converting the whole book.\n",
    "</div>"
   ]
  },
  {
   "cell_type": "code",
   "execution_count": 58,
   "id": "776a7279-dfe1-410e-927c-2380bc829af0",
   "metadata": {},
   "outputs": [],
   "source": [
    "# Importing the regular expression package\n",
    "import re"
   ]
  },
  {
   "cell_type": "code",
   "execution_count": 59,
   "id": "38c89f8b-8a99-4c42-b9d7-4295327c2d86",
   "metadata": {},
   "outputs": [
    {
     "name": "stdout",
     "output_type": "stream",
     "text": [
      "['Hello,', ' ', 'World!']\n"
     ]
    }
   ],
   "source": [
    "text = \"Hello, World!\"\n",
    "text = re.split(r'(\\s)', text)\n",
    "print(text)"
   ]
  },
  {
   "cell_type": "markdown",
   "id": "b7352a64-3f0c-4da8-963e-3587552c5a5c",
   "metadata": {},
   "source": [
    "**This splits the entire sentence giving us three words: Hello, whitespace, World!**"
   ]
  },
  {
   "cell_type": "markdown",
   "id": "ed147a6a-90db-4f85-a820-ea285305e62d",
   "metadata": {},
   "source": [
    "<div style=\"background-color: lightgreen; color: green; padding: 10px; border-radius: 5px;\">\n",
    "    Modifying regular expression to include special characters like commas and periods\n",
    "</div>"
   ]
  },
  {
   "cell_type": "code",
   "execution_count": 60,
   "id": "359d1aab-4584-4d2e-bf4b-44b879953b09",
   "metadata": {},
   "outputs": [
    {
     "name": "stdout",
     "output_type": "stream",
     "text": [
      "['Hello', ',', '', ' ', 'World', '.', '', ' ', 'This', ',', '', ' ', 'is', ' ', 'a', ' ', 'test', '.', '']\n"
     ]
    }
   ],
   "source": [
    "text = \"Hello, World. This, is a test.\"\n",
    "text = re.split(r'([.,]|\\s)', text)\n",
    "print(text)"
   ]
  },
  {
   "cell_type": "markdown",
   "id": "4bad9591-2a0f-4f17-817e-d865f2778836",
   "metadata": {},
   "source": [
    "**Now, this splits the sentences with whitespace or special characters.**"
   ]
  },
  {
   "cell_type": "markdown",
   "id": "5af1bb64-350e-4c06-8ba9-b4b3632ef2ce",
   "metadata": {},
   "source": [
    "<div style=\"background-color: lightgreen; color: green; padding: 10px; border-radius: 5px;\">\n",
    "    Removing the redundant whitespace, many include whitespace as characters but removing it helps to reduce the size or memory of the text data.\n",
    "</div>"
   ]
  },
  {
   "cell_type": "code",
   "execution_count": 61,
   "id": "925ec4bd-28c9-45b9-987d-825ba7dee70f",
   "metadata": {},
   "outputs": [
    {
     "name": "stdout",
     "output_type": "stream",
     "text": [
      "['Hello', ',', 'World', '.', 'This', ',', 'is', 'a', 'test', '.']\n"
     ]
    }
   ],
   "source": [
    "result = [item for item in text if item.strip()]\n",
    "print(result)"
   ]
  },
  {
   "cell_type": "markdown",
   "id": "7b782eea-23b4-432f-a888-a9b44f258cde",
   "metadata": {},
   "source": [
    "**This helps to remove the redundant whitespaces properly**"
   ]
  },
  {
   "cell_type": "markdown",
   "id": "db04489d-16d0-4901-a6f9-2aedf5b8051a",
   "metadata": {},
   "source": [
    "<div style=\"background-color: lightgreen; color: green; padding: 10px; border-radius: 5px;\">\n",
    "    Modifying The Regular Expression to include all of the special characters in the text\n",
    "</div>"
   ]
  },
  {
   "cell_type": "code",
   "execution_count": 62,
   "id": "3b7d6ced-563a-45ce-b28c-0175058bfef1",
   "metadata": {},
   "outputs": [
    {
     "name": "stdout",
     "output_type": "stream",
     "text": [
      "['Hello', ',', 'world', '.', 'Is', 'this', '--', 'a', 'test', '?']\n"
     ]
    }
   ],
   "source": [
    "text= \"Hello, world. Is this-- a test?\"\n",
    "text = re.split(r'([,.:;?_!\"()\\']|--|\\s)', text)\n",
    "result = [item.strip() for item in text if item.strip()]\n",
    "print(result)"
   ]
  },
  {
   "cell_type": "markdown",
   "id": "95d5b39c-a6b9-4a8c-af4b-11fb0a44c82a",
   "metadata": {},
   "source": [
    "**This is the actual way of creating tokens from a dataset.**"
   ]
  },
  {
   "cell_type": "markdown",
   "id": "28e46bd1-f635-4005-a340-94f6f7b6d547",
   "metadata": {},
   "source": [
    "### Step 3: Converting the characters into tokens [Actual Data]"
   ]
  },
  {
   "cell_type": "markdown",
   "id": "bc6c2832-3dc3-4e2f-b53e-f785986cc0d4",
   "metadata": {},
   "source": [
    "<div style=\"background-color: lightgreen; color: green; padding: 10px; border-radius: 5px;\">\n",
    "    Now, Creating tokens for the entire dataset of Harry Potter\n",
    "</div>"
   ]
  },
  {
   "cell_type": "code",
   "execution_count": 63,
   "id": "67488f40-394b-4de1-bdbd-b69af60b0016",
   "metadata": {},
   "outputs": [
    {
     "name": "stdout",
     "output_type": "stream",
     "text": [
      "The new total number of characters  107171\n",
      "['CHAPTER', 'ONE', 'THEWORSTBIRTHDAY', 'Not', 'for', 'the', 'first', 'time', ',', 'an', 'argument', 'had', 'broken', 'out', 'over', 'breakfast', 'at', 'number', 'four', ',', 'Privet', 'Drive', '.', 'Mr', '.', 'Vernon', 'Dursley', 'had', 'been', 'woken', 'in', 'the', 'early', 'hours', 'of', 'the', 'morning', 'by', 'a', 'loud', ',', 'hooting', 'noise', 'from', 'his', 'nephewHarry', \"'\", 'sroom', '.', '\"', 'Thirdtimethisweek', '!', '\"', 'heroaredacrossthetable', '.', '\"', 'Ifyoucan', \"'\", 't', 'controlthatowl', ',', 'it', \"'\", 'llhavetogo', '!', '\"', 'Harry', 'tried', ',', 'yet', 'again', ',', 'to', 'explain', '.', '\"', 'She', \"'\", 's', 'bored', ',', '\"', 'he', 'said', '.', '\"', 'She', \"'\", 's', 'used', 'to', 'flying', 'aroun', 'd', 'outside', '.', 'If', 'I', 'could']\n"
     ]
    }
   ],
   "source": [
    "preProcessed = re.split(r'([,.:;?_!\"()\\']|--|\\s)', raw_text)\n",
    "# Cleaning the entire data\n",
    "preProcessed = [item.strip() for item in preProcessed if item.strip()]\n",
    "print('The new total number of characters ', len(preProcessed))\n",
    "print(preProcessed[:99])"
   ]
  },
  {
   "cell_type": "markdown",
   "id": "41532716-4945-4e48-a48d-d5dd21ea1a7c",
   "metadata": {},
   "source": [
    "**The new total characters after data cleaning is 107,171 and the first 100 characters are displayed**"
   ]
  },
  {
   "cell_type": "markdown",
   "id": "d9386163-28e6-4036-8ef1-f64d4ef7f95c",
   "metadata": {},
   "source": [
    "### Step 4: Creating Vocabulary"
   ]
  },
  {
   "cell_type": "markdown",
   "id": "90739416-8eef-48b5-8c8f-4a06fb1f4051",
   "metadata": {},
   "source": [
    "<div style=\"background-color: lightgreen; color: green; padding: 10px; border-radius: 5px;\">\n",
    "    For Vocabulary all the words should be sorted and unique\n",
    "</div>"
   ]
  },
  {
   "cell_type": "code",
   "execution_count": 64,
   "id": "0e63cb9e-c945-45ea-a0af-d073c89039bc",
   "metadata": {},
   "outputs": [
    {
     "name": "stdout",
     "output_type": "stream",
     "text": [
      "10686\n"
     ]
    }
   ],
   "source": [
    "all_words = sorted(set(preProcessed))\n",
    "print(len(all_words))"
   ]
  },
  {
   "cell_type": "markdown",
   "id": "5dccfed0-607e-4fd0-ad98-b7a0c0359915",
   "metadata": {},
   "source": [
    "**The total number of unique words used in this book: 10,686**"
   ]
  },
  {
   "cell_type": "code",
   "execution_count": 66,
   "id": "896a1f7e-42f2-459a-b262-00b211d56d8c",
   "metadata": {},
   "outputs": [
    {
     "name": "stdout",
     "output_type": "stream",
     "text": [
      "('!', 0)\n",
      "('\"', 1)\n",
      "(\"'\", 2)\n",
      "('(', 3)\n",
      "(')', 4)\n",
      "('*148*', 5)\n",
      "('*247*', 6)\n",
      "('*300*', 7)\n",
      "('*339*', 8)\n",
      "('*light', 9)\n",
      "(',', 10)\n",
      "('-', 11)\n",
      "('--', 12)\n",
      "('.', 13)\n",
      "('1', 14)\n",
      "('13', 15)\n",
      "('1492', 16)\n",
      "('1875', 17)\n",
      "('2', 18)\n",
      "('3', 19)\n",
      "('30P', 20)\n",
      "('51', 21)\n",
      "('54', 22)\n",
      "(':', 23)\n",
      "(';', 24)\n",
      "('=', 25)\n",
      "('?', 26)\n",
      "('A', 27)\n",
      "('ABNORMALITY', 28)\n",
      "('ABOUTSAYINGTHE`M', 29)\n",
      "('ABSOLUTELYDISGUSTED', 30)\n",
      "('AM', 31)\n",
      "('AN', 32)\n",
      "('AND', 33)\n",
      "('ANGLIA', 34)\n",
      "('ANOTHER', 35)\n",
      "('AT', 36)\n",
      "('ATFL0VRISHANDBLOTTS', 37)\n",
      "('ATTAAAACK', 38)\n",
      "('ATTACK', 39)\n",
      "('Aaargh', 40)\n",
      "('About', 41)\n",
      "('Abyssinian', 42)\n",
      "('According', 43)\n",
      "('Act', 44)\n",
      "('Add', 45)\n",
      "('Adrian', 46)\n",
      "('Adventures', 47)\n",
      "('After', 48)\n",
      "('Afterahurriedlunch', 49)\n",
      "('Aftertennoisy', 50)\n"
     ]
    }
   ],
   "source": [
    "vocab = {token: integer for integer, token in enumerate(all_words)}\n",
    "for i,item in enumerate(vocab.items()):\n",
    "    print(item)\n",
    "    if i >= 50:\n",
    "        break"
   ]
  },
  {
   "cell_type": "markdown",
   "id": "03f793f6-c780-453e-b6d3-6889fe4f687e",
   "metadata": {},
   "source": [
    "### Step 5: Creating Tokenizer Class"
   ]
  },
  {
   "cell_type": "markdown",
   "id": "775fc02b-4f43-4570-b86d-7e731eaf9e68",
   "metadata": {},
   "source": [
    "<div style=\"background-color: lightgreen; color: green; padding: 10px; border-radius: 5px;\">\n",
    "    Tokenizer Class Includes Encoder And Decoder Logic\n",
    "</div>"
   ]
  },
  {
   "cell_type": "code",
   "execution_count": 69,
   "id": "11f1de5e-cbea-43ce-8103-55c137905296",
   "metadata": {},
   "outputs": [],
   "source": [
    "class simple_tokenizer_v1:\n",
    "    # Constructor class\n",
    "    def __init__ (self, vocab):\n",
    "        self.str_to_int = vocab\n",
    "        self.int_to_str = {integer:string for string,integer in vocab.items()}\n",
    "    # Encoder\n",
    "    def encode (self, text):\n",
    "        preProcessed = re.split(r'([,.;:?!_\"()\\'])|--|\\s', text)\n",
    "        preProcessed = [item.strip() for item in preProcessed if item and item.strip()]\n",
    "        ids = [self.str_to_int[s] for s in preProcessed]\n",
    "        return ids\n",
    "    # decoder\n",
    "    def decode (self, ids):\n",
    "        text = (\" \").join([self.int_to_str[i] for i in ids])\n",
    "        text = re.sub(r'\\s+([,.;:?!_\"()\\'])', r'\\1', text)\n",
    "        return text"
   ]
  },
  {
   "cell_type": "code",
   "execution_count": 70,
   "id": "be70d347-b55c-4980-9644-4b7fb0bd691c",
   "metadata": {},
   "outputs": [
    {
     "data": {
      "text/plain": [
       "[1594,\n",
       " 1196,\n",
       " 10578,\n",
       " 2952,\n",
       " 9988,\n",
       " 9729,\n",
       " 7881,\n",
       " 6861,\n",
       " 10611,\n",
       " 4376,\n",
       " 10,\n",
       " 2975,\n",
       " 5465,\n",
       " 6842,\n",
       " 9729,\n",
       " 5233,\n",
       " 2874,\n",
       " 2534,\n",
       " 5133,\n",
       " 5605,\n",
       " 6577,\n",
       " 2890,\n",
       " 13,\n",
       " 1623,\n",
       " 2352,\n",
       " 4776,\n",
       " 6973,\n",
       " 9494,\n",
       " 9410,\n",
       " 6013,\n",
       " 5826,\n",
       " 9494,\n",
       " 3564,\n",
       " 9481,\n",
       " 5300,\n",
       " 9611,\n",
       " 6858,\n",
       " 13]"
      ]
     },
     "execution_count": 70,
     "metadata": {},
     "output_type": "execute_result"
    }
   ],
   "source": [
    "tokenizer = simple_tokenizer_v1(vocab)\n",
    "text = \"\"\"Professor Lockhart would be unable to return next y\n",
    "ear, because he needed to go away and get his memory back. Quite a few\n",
    " \n",
    "of the teachers joined in the cheering that greeted this news.\"\"\"\n",
    "tokenizer.encode(text)"
   ]
  },
  {
   "cell_type": "markdown",
   "id": "93895b4a-6ae9-44f5-966a-1982bdb17c7b",
   "metadata": {},
   "source": [
    "**The encoder is encoding the entire paragraph assigning each character a unique tokenId according to vocab**"
   ]
  },
  {
   "cell_type": "code",
   "execution_count": 71,
   "id": "fc5f2361-80f9-4bda-adda-11a54036dc5f",
   "metadata": {},
   "outputs": [
    {
     "data": {
      "text/plain": [
       "'Professor Lockhart would be unable to return next y ear, because he needed to go away and get his memory back. Quite a few of the teachers joined in the cheering that greeted this news.'"
      ]
     },
     "execution_count": 71,
     "metadata": {},
     "output_type": "execute_result"
    }
   ],
   "source": [
    "tokenizer.decode(tokenizer.encode(text))"
   ]
  },
  {
   "cell_type": "markdown",
   "id": "d2d13694-a4f2-4b52-b546-bea7a27e154d",
   "metadata": {},
   "source": [
    "**The decoder is decoding the entire paragraph from the list of token Ids**"
   ]
  },
  {
   "cell_type": "markdown",
   "id": "5f213650-a90d-49cd-aed3-6f89b0baf895",
   "metadata": {},
   "source": [
    "### Step 6: The Problem of Tokenizer Class"
   ]
  },
  {
   "cell_type": "markdown",
   "id": "31a2f1a3-ca4c-4073-9ed2-5bc93fd9bb73",
   "metadata": {},
   "source": [
    "<div style=\"background-color: lightgreen; color: green; padding: 10px; border-radius: 5px;\">\n",
    "    The text to be encoded must belong to a vocabulary, if we assign a unique words the class will fail to encode.\n",
    "</div>"
   ]
  },
  {
   "cell_type": "code",
   "execution_count": 75,
   "id": "b7b860a5-49c4-4d87-bd35-c9e220a6e12e",
   "metadata": {},
   "outputs": [
    {
     "ename": "KeyError",
     "evalue": "'robotic'",
     "output_type": "error",
     "traceback": [
      "\u001b[1;31m---------------------------------------------------------------------------\u001b[0m",
      "\u001b[1;31mKeyError\u001b[0m                                  Traceback (most recent call last)",
      "Cell \u001b[1;32mIn[75], line 2\u001b[0m\n\u001b[0;32m      1\u001b[0m text \u001b[38;5;241m=\u001b[39m \u001b[38;5;124m\"\u001b[39m\u001b[38;5;124mThe robotic llama danced gracefully across the moonlit ice rink, humming an old jazz tune from Mars.\u001b[39m\u001b[38;5;124m\"\u001b[39m\n\u001b[1;32m----> 2\u001b[0m \u001b[43mtokenizer\u001b[49m\u001b[38;5;241;43m.\u001b[39;49m\u001b[43mencode\u001b[49m\u001b[43m(\u001b[49m\u001b[43mtext\u001b[49m\u001b[43m)\u001b[49m\n",
      "Cell \u001b[1;32mIn[69], line 10\u001b[0m, in \u001b[0;36msimple_tokenizer_v1.encode\u001b[1;34m(self, text)\u001b[0m\n\u001b[0;32m      8\u001b[0m preProcessed \u001b[38;5;241m=\u001b[39m re\u001b[38;5;241m.\u001b[39msplit(\u001b[38;5;124mr\u001b[39m\u001b[38;5;124m'\u001b[39m\u001b[38;5;124m([,.;:?!_\u001b[39m\u001b[38;5;124m\"\u001b[39m\u001b[38;5;124m()\u001b[39m\u001b[38;5;130;01m\\'\u001b[39;00m\u001b[38;5;124m])|--|\u001b[39m\u001b[38;5;124m\\\u001b[39m\u001b[38;5;124ms\u001b[39m\u001b[38;5;124m'\u001b[39m, text)\n\u001b[0;32m      9\u001b[0m preProcessed \u001b[38;5;241m=\u001b[39m [item\u001b[38;5;241m.\u001b[39mstrip() \u001b[38;5;28;01mfor\u001b[39;00m item \u001b[38;5;129;01min\u001b[39;00m preProcessed \u001b[38;5;28;01mif\u001b[39;00m item \u001b[38;5;129;01mand\u001b[39;00m item\u001b[38;5;241m.\u001b[39mstrip()]\n\u001b[1;32m---> 10\u001b[0m ids \u001b[38;5;241m=\u001b[39m [\u001b[38;5;28mself\u001b[39m\u001b[38;5;241m.\u001b[39mstr_to_int[s] \u001b[38;5;28;01mfor\u001b[39;00m s \u001b[38;5;129;01min\u001b[39;00m preProcessed]\n\u001b[0;32m     11\u001b[0m \u001b[38;5;28;01mreturn\u001b[39;00m ids\n",
      "Cell \u001b[1;32mIn[69], line 10\u001b[0m, in \u001b[0;36m<listcomp>\u001b[1;34m(.0)\u001b[0m\n\u001b[0;32m      8\u001b[0m preProcessed \u001b[38;5;241m=\u001b[39m re\u001b[38;5;241m.\u001b[39msplit(\u001b[38;5;124mr\u001b[39m\u001b[38;5;124m'\u001b[39m\u001b[38;5;124m([,.;:?!_\u001b[39m\u001b[38;5;124m\"\u001b[39m\u001b[38;5;124m()\u001b[39m\u001b[38;5;130;01m\\'\u001b[39;00m\u001b[38;5;124m])|--|\u001b[39m\u001b[38;5;124m\\\u001b[39m\u001b[38;5;124ms\u001b[39m\u001b[38;5;124m'\u001b[39m, text)\n\u001b[0;32m      9\u001b[0m preProcessed \u001b[38;5;241m=\u001b[39m [item\u001b[38;5;241m.\u001b[39mstrip() \u001b[38;5;28;01mfor\u001b[39;00m item \u001b[38;5;129;01min\u001b[39;00m preProcessed \u001b[38;5;28;01mif\u001b[39;00m item \u001b[38;5;129;01mand\u001b[39;00m item\u001b[38;5;241m.\u001b[39mstrip()]\n\u001b[1;32m---> 10\u001b[0m ids \u001b[38;5;241m=\u001b[39m [\u001b[38;5;28;43mself\u001b[39;49m\u001b[38;5;241;43m.\u001b[39;49m\u001b[43mstr_to_int\u001b[49m\u001b[43m[\u001b[49m\u001b[43ms\u001b[49m\u001b[43m]\u001b[49m \u001b[38;5;28;01mfor\u001b[39;00m s \u001b[38;5;129;01min\u001b[39;00m preProcessed]\n\u001b[0;32m     11\u001b[0m \u001b[38;5;28;01mreturn\u001b[39;00m ids\n",
      "\u001b[1;31mKeyError\u001b[0m: 'robotic'"
     ]
    }
   ],
   "source": [
    "text = \"The robotic llama danced gracefully across the moonlit ice rink, humming an old jazz tune from Mars.\"\n",
    "tokenizer.encode(text)"
   ]
  },
  {
   "cell_type": "markdown",
   "id": "d2b110bc-ff50-4c60-833f-7c03458beb0a",
   "metadata": {},
   "source": [
    "**Hence to resolve this error we insert two additional tokens: <|unk|> and <|endoftext|>**"
   ]
  },
  {
   "cell_type": "markdown",
   "id": "34178233-a27f-48b9-9b99-e3cc2570875a",
   "metadata": {},
   "source": [
    "<div style=\"background-color: blue; color: white; padding: 10px; border-radius: 5px;\">\n",
    "    unk: Unknown token, used if there is any unknown character or token in the vocab like: Tea\n",
    "    endoftext: This token, is used specially by GPT to specify that the new source of text is used and this marks the end of any text source.\n",
    "    GPT doesn't use unk token but has own tokenizer called Byte Pair Encoding which converts the subwords into a token instead of a single word.\n",
    "</div>"
   ]
  },
  {
   "cell_type": "markdown",
   "id": "55eaec3e-0e82-455c-bc60-4d8223d5769c",
   "metadata": {},
   "source": [
    "### Step 7: Special Context Tokens"
   ]
  },
  {
   "cell_type": "markdown",
   "id": "bf694850-3160-4f82-9f8c-7a37e4ae433e",
   "metadata": {},
   "source": [
    "<div style=\"background-color: lightgreen; color: green; padding: 10px; border-radius: 5px;\">\n",
    "    Adding two new tokens to the vocabulary\n",
    "</div>"
   ]
  },
  {
   "cell_type": "code",
   "execution_count": 73,
   "id": "47f90a17-5e68-40f7-8db2-1af9f7c29833",
   "metadata": {},
   "outputs": [
    {
     "name": "stdout",
     "output_type": "stream",
     "text": [
      "('zing', 10683)\n",
      "('zoo', 10684)\n",
      "('zoomed', 10685)\n",
      "('<|endoftext|>', 10686)\n",
      "('<|unk|>', 10687)\n"
     ]
    }
   ],
   "source": [
    "all_tokens = sorted(list(set(preProcessed)))\n",
    "all_tokens.extend([\"<|endoftext|>\", \"<|unk|>\"])\n",
    "vocab = {string:integer for integer, string in enumerate(all_tokens)}\n",
    "len(vocab.items())\n",
    "for i, item in enumerate(list(vocab.items())[-5:]):\n",
    "    print(item)"
   ]
  },
  {
   "cell_type": "markdown",
   "id": "37c0c257-22a1-4ddc-b623-a3d0f4a3467d",
   "metadata": {},
   "source": [
    "**The total number of unique words used in this book: 10,688 by adding two new tokens**"
   ]
  },
  {
   "cell_type": "code",
   "execution_count": 1,
   "id": "3f7e178d-56a7-48d0-b54a-e8eb35b7eb36",
   "metadata": {},
   "outputs": [],
   "source": [
    "class simple_tokenizer_v2:\n",
    "    def __init__ (self, vocab):\n",
    "        self.str_to_int = vocab\n",
    "        self.int_to_str = {i:s for s,i in vocab.items()}\n",
    "    # Modified Encoder Logic\n",
    "    def encode (self, text):\n",
    "        preProcessed = re.split(r'([,.;:?!_\"()\\']|--|\\s)', text)\n",
    "        preProcessed = [item.strip() for item in preProcessed if item and item.strip()]\n",
    "        preProcessed = [item if item in self.str_to_int\n",
    "                       else \"<|unk|>\" for item in preProcessed\n",
    "                       ]\n",
    "        ids = [self.str_to_int[s] for s in preProcessed]\n",
    "        return ids\n",
    "    # Same Decoder Logic\n",
    "    def decode (self, ids):\n",
    "        text = (\" \").join([self.int_to_str[i] for i in ids])\n",
    "        text = re.sub(r'\\s+([,.;:?!_\"()\\'])', r'\\1', text)\n",
    "        return text"
   ]
  },
  {
   "cell_type": "code",
   "execution_count": 76,
   "id": "6cecfefd-e234-4c47-b805-22123323533d",
   "metadata": {},
   "outputs": [
    {
     "data": {
      "text/plain": [
       "[1940,\n",
       " 10687,\n",
       " 10687,\n",
       " 10687,\n",
       " 10687,\n",
       " 2396,\n",
       " 9494,\n",
       " 6690,\n",
       " 5755,\n",
       " 10687,\n",
       " 10,\n",
       " 5724,\n",
       " 2531,\n",
       " 6995,\n",
       " 10687,\n",
       " 10687,\n",
       " 5040,\n",
       " 10687,\n",
       " 13]"
      ]
     },
     "execution_count": 76,
     "metadata": {},
     "output_type": "execute_result"
    }
   ],
   "source": [
    "tokenizer = simple_tokenizer_v2(vocab)\n",
    "text = \"The robotic llama danced gracefully across the moonlit ice rink, humming an old jazz tune from Mars.\"\n",
    "tokenizer.encode(text)"
   ]
  },
  {
   "cell_type": "code",
   "execution_count": 77,
   "id": "cbb5bfe2-74f0-4d29-a03c-f36be571c347",
   "metadata": {},
   "outputs": [
    {
     "data": {
      "text/plain": [
       "'The <|unk|> <|unk|> <|unk|> <|unk|> across the moonlit ice <|unk|>, humming an old <|unk|> <|unk|> from <|unk|>.'"
      ]
     },
     "execution_count": 77,
     "metadata": {},
     "output_type": "execute_result"
    }
   ],
   "source": [
    "tokenizer.decode(tokenizer.encode(text))"
   ]
  },
  {
   "cell_type": "markdown",
   "id": "bc30fe23-5322-4964-b568-bf0714ff34fc",
   "metadata": {},
   "source": [
    "**Using The <|endoftext|> token**"
   ]
  },
  {
   "cell_type": "code",
   "execution_count": 80,
   "id": "e9807567-c833-4a8e-a815-0af62744ecc3",
   "metadata": {},
   "outputs": [
    {
     "name": "stdout",
     "output_type": "stream",
     "text": [
      "Professor Lockhart would be unable to return next y\n",
      "ear, owing to the \n",
      "fact that he needed to go away and get his memory back. Quite a few \n",
      "of the teachers joined in the cheering that greeted this news.<|endoftext|> Shame, said Ron, helping himself to a jam doughnut. He was \n",
      "starting to grow on me.\n"
     ]
    }
   ],
   "source": [
    "# First Source Of Text\n",
    "text1 = \"\"\"Professor Lockhart would be unable to return next y\n",
    "ear, owing to the \n",
    "fact that he needed to go away and get his memory back. Quite a few \n",
    "of the teachers joined in the cheering that greeted this news.\"\"\"\n",
    "# Second Source of Text\n",
    "text2 = \"\"\"Shame, said Ron, helping himself to a jam doughnut. He was \n",
    "starting to grow on me.\"\"\"\n",
    "# Joining The Both Text\n",
    "text = \"<|endoftext|> \".join((text1, text2))\n",
    "print(text)"
   ]
  },
  {
   "cell_type": "markdown",
   "id": "557f060a-e6dc-40ec-a97a-f3132e7a1aed",
   "metadata": {},
   "source": [
    "**The proper intended use of the token.**"
   ]
  },
  {
   "cell_type": "code",
   "execution_count": 82,
   "id": "ebe3c4f5-f8a5-43c5-bdd7-208cc6b0b616",
   "metadata": {},
   "outputs": [
    {
     "data": {
      "text/plain": [
       "[1594,\n",
       " 1196,\n",
       " 10578,\n",
       " 2952,\n",
       " 9988,\n",
       " 9729,\n",
       " 7881,\n",
       " 6861,\n",
       " 10611,\n",
       " 4376,\n",
       " 10,\n",
       " 7146,\n",
       " 9729,\n",
       " 9494,\n",
       " 4674,\n",
       " 9481,\n",
       " 5465,\n",
       " 6842,\n",
       " 9729,\n",
       " 5233,\n",
       " 2874,\n",
       " 2534,\n",
       " 5133,\n",
       " 5605,\n",
       " 6577,\n",
       " 2890,\n",
       " 13,\n",
       " 1623,\n",
       " 2352,\n",
       " 4776,\n",
       " 6973,\n",
       " 9494,\n",
       " 9410,\n",
       " 6013,\n",
       " 5826,\n",
       " 9494,\n",
       " 3564,\n",
       " 9481,\n",
       " 5300,\n",
       " 9611,\n",
       " 6858,\n",
       " 13,\n",
       " 10686,\n",
       " 1769,\n",
       " 10,\n",
       " 8076,\n",
       " 1665,\n",
       " 10,\n",
       " 5533,\n",
       " 5596,\n",
       " 9729,\n",
       " 2352,\n",
       " 5993,\n",
       " 4236,\n",
       " 13,\n",
       " 829,\n",
       " 10267,\n",
       " 9026,\n",
       " 9729,\n",
       " 5328,\n",
       " 7011,\n",
       " 6547,\n",
       " 13]"
      ]
     },
     "execution_count": 82,
     "metadata": {},
     "output_type": "execute_result"
    }
   ],
   "source": [
    "tokenizer.encode(text)"
   ]
  },
  {
   "cell_type": "markdown",
   "id": "b5cef3cc-458f-4b82-afd5-2f81cd58c48d",
   "metadata": {},
   "source": [
    "**The list of tokenIds will contain the id of endoftext token**"
   ]
  },
  {
   "cell_type": "code",
   "execution_count": 83,
   "id": "efed77bb-d685-4381-991d-68e671dac81c",
   "metadata": {},
   "outputs": [
    {
     "data": {
      "text/plain": [
       "'Professor Lockhart would be unable to return next y ear, owing to the fact that he needed to go away and get his memory back. Quite a few of the teachers joined in the cheering that greeted this news. <|endoftext|> Shame, said Ron, helping himself to a jam doughnut. He was starting to grow on me.'"
      ]
     },
     "execution_count": 83,
     "metadata": {},
     "output_type": "execute_result"
    }
   ],
   "source": [
    "tokenizer.decode(tokenizer.encode(text))"
   ]
  },
  {
   "cell_type": "markdown",
   "id": "01279323-747d-4311-b7db-e0fe641b9b34",
   "metadata": {},
   "source": [
    "**The decoded sentence includes the endoftext token**"
   ]
  },
  {
   "cell_type": "markdown",
   "id": "85b8614f-8873-4430-9e6f-aabbf8a64664",
   "metadata": {},
   "source": [
    "## Implementing the BPE tokenizer"
   ]
  },
  {
   "cell_type": "markdown",
   "id": "17e0ea8f-a36d-4a37-8fdc-378c05dec7a8",
   "metadata": {},
   "source": [
    "<div style=\"background-color: lightgreen; color: green; padding: 10px; border-radius: 5px;\">\n",
    "    Using TikToken Class Developed by OpenAI\n",
    "</div>"
   ]
  },
  {
   "cell_type": "code",
   "execution_count": 1,
   "id": "ed7eff9c-7437-419a-98a0-38bb67253b8a",
   "metadata": {},
   "outputs": [
    {
     "name": "stdout",
     "output_type": "stream",
     "text": [
      "Requirement already satisfied: tiktoken in c:\\users\\shubh\\appdata\\local\\programs\\python\\python310\\lib\\site-packages (0.9.0)\n",
      "Requirement already satisfied: regex>=2022.1.18 in c:\\users\\shubh\\appdata\\local\\programs\\python\\python310\\lib\\site-packages (from tiktoken) (2024.11.6)\n",
      "Requirement already satisfied: requests>=2.26.0 in c:\\users\\shubh\\appdata\\local\\programs\\python\\python310\\lib\\site-packages (from tiktoken) (2.32.3)\n",
      "Requirement already satisfied: charset-normalizer<4,>=2 in c:\\users\\shubh\\appdata\\local\\programs\\python\\python310\\lib\\site-packages (from requests>=2.26.0->tiktoken) (3.4.1)\n",
      "Requirement already satisfied: idna<4,>=2.5 in c:\\users\\shubh\\appdata\\local\\programs\\python\\python310\\lib\\site-packages (from requests>=2.26.0->tiktoken) (3.10)\n",
      "Requirement already satisfied: urllib3<3,>=1.21.1 in c:\\users\\shubh\\appdata\\local\\programs\\python\\python310\\lib\\site-packages (from requests>=2.26.0->tiktoken) (2.3.0)\n",
      "Requirement already satisfied: certifi>=2017.4.17 in c:\\users\\shubh\\appdata\\local\\programs\\python\\python310\\lib\\site-packages (from requests>=2.26.0->tiktoken) (2025.1.31)\n",
      "TikToken Version:  0.9.0\n"
     ]
    }
   ],
   "source": [
    "!pip3 install tiktoken\n",
    "import importlib, tiktoken\n",
    "print('TikToken Version: ', importlib.metadata.version('tiktoken'))"
   ]
  },
  {
   "cell_type": "markdown",
   "id": "9fea1e17-44f6-48ea-9bbe-281e1370854b",
   "metadata": {},
   "source": [
    "**Instantiate the BPE and passing the entire dataset**"
   ]
  },
  {
   "cell_type": "code",
   "execution_count": 7,
   "id": "e2763452-ab0b-4900-895a-eb7071f0ddaf",
   "metadata": {},
   "outputs": [
    {
     "name": "stdout",
     "output_type": "stream",
     "text": [
      "[41481, 220, 220, 16329, 198, 220, 198, 220, 198, 10970, 21881, 2257, 347, 4663, 4221, 26442, 198, 220, 198, 220, 198, 3673, 329, 262, 717, 640, 11, 281, 4578, 550, 5445, 503, 625, 12607, 379, 198, 220, 198, 17618, 1440, 11, 4389, 16809, 9974, 13, 1770, 13, 27820, 360, 1834]\n",
      "163347\n"
     ]
    }
   ],
   "source": [
    "tokenizer = tiktoken.get_encoding('gpt2')\n",
    "encode_text = tokenizer.encode(raw_text, allowed_special={'<|endoftext|>'})\n",
    "print(encode_text[:50])\n",
    "print(len(encode_text))"
   ]
  },
  {
   "cell_type": "markdown",
   "id": "2e593124-223a-42ad-97c8-45a702347bd8",
   "metadata": {},
   "source": [
    "**The total number of tokens: 163,347**"
   ]
  },
  {
   "cell_type": "markdown",
   "id": "705fd253-b19e-42de-90eb-7fd16437eab0",
   "metadata": {},
   "source": [
    "## Creating DataSet and DataLoader Using PyTorch"
   ]
  },
  {
   "cell_type": "markdown",
   "id": "25f45179-012a-469d-8bd1-f5684e6ca1df",
   "metadata": {},
   "source": [
    "**So, how does the input-target pair works?**"
   ]
  },
  {
   "cell_type": "code",
   "execution_count": 8,
   "id": "c4244725-9351-4171-9394-956ea18dd964",
   "metadata": {},
   "outputs": [
    {
     "name": "stdout",
     "output_type": "stream",
     "text": [
      "50\n",
      "Input Cluster: [41481, 16329, 3336, 21881]\n",
      "Output Cluster:       [16329, 3336, 21881, 2257]\n"
     ]
    }
   ],
   "source": [
    "import tiktoken\n",
    "# Studying the data chunking done by the dataset, practically\n",
    "context_size = 4\n",
    "# Importing The Data\n",
    "with open('datasets/harryPotter.txt', 'r', encoding='utf-8') as f:\n",
    "    raw_text = f.read()\n",
    "# Sample Data For The Concept\n",
    "tokenizer = tiktoken.get_encoding('gpt2')\n",
    "encoded_text = tokenizer.encode(raw_text, allowed_special={'<|endoftext|>'})\n",
    "sample_text = encoded_text[:50]\n",
    "print(len(sample_text))\n",
    "\n",
    "# The Output of the token predicted is just the input token shifted to 1\n",
    "x = sample_text[:context_size]\n",
    "y = sample_text[1:context_size+1]\n",
    "print(f\"Input Cluster: {x}\")\n",
    "print(f\"Output Cluster:       {y}\")"
   ]
  },
  {
   "cell_type": "markdown",
   "id": "c651fddc-2ea0-48cb-9cb7-64d3ab67977d",
   "metadata": {},
   "source": [
    "\n",
    "**This, is the loop to understand the prediction task visually.**"
   ]
  },
  {
   "cell_type": "code",
   "execution_count": 10,
   "id": "f2b88910-e097-4320-9602-406e73fe642f",
   "metadata": {},
   "outputs": [
    {
     "name": "stdout",
     "output_type": "stream",
     "text": [
      "[41481] -------->  16329\n",
      "[41481, 16329] -------->  3336\n",
      "[41481, 16329, 3336] -------->  21881\n",
      "CHAPTER -------->  ONE\n",
      "CHAPTER ONE -------->  THE\n",
      "CHAPTER ONE THE -------->  WOR\n"
     ]
    }
   ],
   "source": [
    "# The first loop to understand why the Input-Target Pair is necessary\n",
    "for i in range(1, context_size):\n",
    "    input_ids = sample_text[:i]\n",
    "    output_id = sample_text[i]\n",
    "    print(f'{input_ids} -------->  {output_id}')\n",
    "# The second loop to understand it in a real implementation\n",
    "for i in range (1, context_size):\n",
    "    input_ids = sample_text[:i]\n",
    "    input_decoded = tokenizer.decode(input_ids)\n",
    "    output_id = sample_text[i]\n",
    "    output_decoded = tokenizer.decode([output_id])\n",
    "    print(f'{input_decoded} --------> {output_decoded}')"
   ]
  },
  {
   "cell_type": "markdown",
   "id": "57179011-4af4-4743-92f4-ff50b702b79b",
   "metadata": {},
   "source": [
    "**Now, Creating DataSet and DataLoader Using PyTorch**"
   ]
  },
  {
   "cell_type": "code",
   "execution_count": 11,
   "id": "e8d0deec-f0a4-414b-b23b-5192dc8cda82",
   "metadata": {},
   "outputs": [
    {
     "name": "stdout",
     "output_type": "stream",
     "text": [
      "Requirement already satisfied: torch in c:\\users\\shubh\\appdata\\local\\programs\\python\\python310\\lib\\site-packages (2.7.0)\n",
      "Requirement already satisfied: filelock in c:\\users\\shubh\\appdata\\local\\programs\\python\\python310\\lib\\site-packages (from torch) (3.18.0)\n",
      "Requirement already satisfied: typing-extensions>=4.10.0 in c:\\users\\shubh\\appdata\\local\\programs\\python\\python310\\lib\\site-packages (from torch) (4.12.2)\n",
      "Requirement already satisfied: sympy>=1.13.3 in c:\\users\\shubh\\appdata\\local\\programs\\python\\python310\\lib\\site-packages (from torch) (1.14.0)\n",
      "Requirement already satisfied: networkx in c:\\users\\shubh\\appdata\\local\\programs\\python\\python310\\lib\\site-packages (from torch) (3.4.2)\n",
      "Requirement already satisfied: jinja2 in c:\\users\\shubh\\appdata\\local\\programs\\python\\python310\\lib\\site-packages (from torch) (3.1.4)\n",
      "Requirement already satisfied: fsspec in c:\\users\\shubh\\appdata\\local\\programs\\python\\python310\\lib\\site-packages (from torch) (2025.3.2)\n",
      "Requirement already satisfied: mpmath<1.4,>=1.1.0 in c:\\users\\shubh\\appdata\\local\\programs\\python\\python310\\lib\\site-packages (from sympy>=1.13.3->torch) (1.3.0)\n",
      "Requirement already satisfied: MarkupSafe>=2.0 in c:\\users\\shubh\\appdata\\local\\programs\\python\\python310\\lib\\site-packages (from jinja2->torch) (2.1.5)\n",
      "Torch Version:  2.7.0\n"
     ]
    }
   ],
   "source": [
    "!pip3 install torch\n",
    "import torch, importlib\n",
    "from torch.utils.data import Dataset, DataLoader\n",
    "\n",
    "print('Torch Version: ', importlib.metadata.version('torch'))"
   ]
  },
  {
   "cell_type": "markdown",
   "id": "1ec3dd43-ea3f-4e60-bf4f-55fd2f7d524d",
   "metadata": {},
   "source": [
    "**Creating a class of DataLoader That Creates Input-Output Tensors According To Stride and Context_Size**"
   ]
  },
  {
   "cell_type": "code",
   "execution_count": 14,
   "id": "a3ca696f-2db2-4c90-8904-50526b368b2a",
   "metadata": {},
   "outputs": [],
   "source": [
    "class GPTDatasetV1(Dataset): \n",
    "    # Constructor\n",
    "    def __init__(self, text, tokenizer, max_length, stride):\n",
    "        self.input_ids = []\n",
    "        self.output_ids = []\n",
    "        # Encode the entire dataset\n",
    "        encoded_data = tokenizer.encode(text, allowed_special={'<|endoftext|>'})\n",
    "        # Sliding Mechanism:\n",
    "        for i in range (0, len(encoded_data) - max_length, stride):\n",
    "            x = encoded_data[i:i + max_length]\n",
    "            y = encoded_data[i+1: i + max_length + 1]\n",
    "            self.input_ids.append(torch.tensor(x))\n",
    "            self.output_ids.append(torch.tensor(y))\n",
    "    # Must override the interface method:\n",
    "    def __len__ (self):\n",
    "        return (len(self.input_ids))\n",
    "    # To Get Specific Row\n",
    "    def __getitem__ (self, idx):\n",
    "        return self.input_ids[idx], self.output_ids[idx]"
   ]
  },
  {
   "cell_type": "markdown",
   "id": "3ee42356-8c58-43ac-b850-a8cb55737f8d",
   "metadata": {},
   "source": [
    "**Now, defining the DataLoader Function That Uses The DataLoader Class of PyTorch**"
   ]
  },
  {
   "cell_type": "code",
   "execution_count": 15,
   "id": "494a801f-adfd-4b24-95f4-bb1d4d6b2310",
   "metadata": {},
   "outputs": [],
   "source": [
    "def create_dataloader_v1 (text, max_length = 256, stride = 128, batch_size = 4, num_workers = 0, shuffle = True, drop_last = True):\n",
    "    #Creating the tokenizer to pass to the dataset\n",
    "    tokenizer = tiktoken.get_encoding('gpt2')\n",
    "    #Creating the object of the dataset\n",
    "    dataset = GPTDatasetV1(text, tokenizer = tokenizer, max_length = max_length, stride = stride)\n",
    "    #Creating the object of the dataloader\n",
    "    dataloader = DataLoader(dataset, batch_size = batch_size, shuffle = shuffle, drop_last = drop_last, num_workers = num_workers)\n",
    "    #returning the dataloader\n",
    "    return dataloader"
   ]
  },
  {
   "cell_type": "markdown",
   "id": "30918bdf-67af-4b38-87ba-38fa00a0342b",
   "metadata": {},
   "source": [
    "<div style=\"background-color: lightgreen; color: green; padding: 10px; border-radius: 5px;\">\n",
    "  Testing the dataloader which will instantiate the dataset. We will be using batch_size = 1 and context_size = 4\n",
    "</div>"
   ]
  },
  {
   "cell_type": "code",
   "execution_count": 17,
   "id": "1b0b39b3-2f94-4c29-8442-de653b95870d",
   "metadata": {},
   "outputs": [
    {
     "name": "stdout",
     "output_type": "stream",
     "text": [
      "First batch of input-target pair: [tensor([[41481, 16329,  3336, 21881]]), tensor([[16329,  3336, 21881,  2257]])]\n",
      "Second batch of input-target pair: [tensor([[16329,  3336, 21881,  2257]]), tensor([[ 3336, 21881,  2257,   347]])]\n"
     ]
    }
   ],
   "source": [
    "# Importing the dataset\n",
    "with open(\"datasets/harryPotter.txt\", \"r\", encoding=\"utf-8\") as f:\n",
    "    raw_text = f.read()\n",
    "# Invoking the function    \n",
    "dataloader = create_dataloader_v1(raw_text, max_length = 4, stride = 1, batch_size = 1, shuffle = False)\n",
    "#For Iteration\n",
    "data_iter = iter(dataloader)\n",
    "first_batch = next(data_iter)\n",
    "print(f'First batch of input-target pair: {first_batch}')\n",
    "second_batch = next(data_iter)\n",
    "print(f'Second batch of input-target pair: {second_batch}')"
   ]
  },
  {
   "cell_type": "markdown",
   "id": "ee835fd9-06ae-42c9-8de8-f0ff670cc1dd",
   "metadata": {},
   "source": [
    "<div style=\"background-color: lightgreen; color: green; padding: 10px; border-radius: 5px;\">\n",
    "  When batch size will be around 8\n",
    "</div>"
   ]
  },
  {
   "cell_type": "code",
   "execution_count": 20,
   "id": "39145695-9eb7-4955-be5a-1639cc86c863",
   "metadata": {},
   "outputs": [
    {
     "name": "stdout",
     "output_type": "stream",
     "text": [
      "Inputs: \n",
      " tensor([[41481, 16329,  3336, 21881],\n",
      "        [ 2257,   347,  4663,  4221],\n",
      "        [26442,  1892,   329,   262],\n",
      "        [  717,   640,    11,   281],\n",
      "        [ 4578,   550,  5445,   503],\n",
      "        [  625, 12607,   379,  1271],\n",
      "        [ 1440,    11,  4389, 16809],\n",
      "        [ 9974,    13,  1770,    13]])\n",
      "Outputs: \n",
      " tensor([[16329,  3336, 21881,  2257],\n",
      "        [  347,  4663,  4221, 26442],\n",
      "        [ 1892,   329,   262,   717],\n",
      "        [  640,    11,   281,  4578],\n",
      "        [  550,  5445,   503,   625],\n",
      "        [12607,   379,  1271,  1440],\n",
      "        [   11,  4389, 16809,  9974],\n",
      "        [   13,  1770,    13, 27820]])\n"
     ]
    }
   ],
   "source": [
    "# When the max_length and stride is equal this won't provide any overlapping set pf tensors\n",
    "dataloader = create_dataloader_v1(raw_text, batch_size=8, max_length=4, stride=4, shuffle=False)\n",
    "data_iter = iter(dataloader)\n",
    "inputs, targets = next(data_iter)\n",
    "print(\"Inputs: \\n\", inputs)\n",
    "print(\"Outputs: \\n\", targets)"
   ]
  }
 ],
 "metadata": {
  "kernelspec": {
   "display_name": "Python 3 (ipykernel)",
   "language": "python",
   "name": "python3"
  },
  "language_info": {
   "codemirror_mode": {
    "name": "ipython",
    "version": 3
   },
   "file_extension": ".py",
   "mimetype": "text/x-python",
   "name": "python",
   "nbconvert_exporter": "python",
   "pygments_lexer": "ipython3",
   "version": "3.10.4"
  }
 },
 "nbformat": 4,
 "nbformat_minor": 5
}
