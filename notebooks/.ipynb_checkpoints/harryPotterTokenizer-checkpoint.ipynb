{
 "cells": [
  {
   "cell_type": "markdown",
   "id": "bec14065-debd-4cbb-bddc-27a6c8b702fc",
   "metadata": {},
   "source": [
    "# Importing The Dataset"
   ]
  },
  {
   "cell_type": "markdown",
   "id": "063f2078-a1ac-4abb-a123-00e00f7162bb",
   "metadata": {},
   "source": [
    "<div style=\"background-color: lightgreen; color: green; padding: 10px; border-radius: 5px;\">\n",
    "    Harry Potter And The Chamber of Secrets - By JK Rowling\n",
    "</div>"
   ]
  },
  {
   "cell_type": "markdown",
   "id": "61952130-96b0-4d7f-95d6-583ba1309e56",
   "metadata": {},
   "source": [
    "### Step 1: Reading The Document"
   ]
  },
  {
   "cell_type": "code",
   "execution_count": 57,
   "id": "f74125d1-47a1-48cc-93ad-84e56f412ece",
   "metadata": {},
   "outputs": [
    {
     "name": "stdout",
     "output_type": "stream",
     "text": [
      "The total number of characters:  506147\n",
      "CHAPTER   ONE\n",
      " \n",
      " \n",
      "THEWORSTBIRTHDAY\n",
      " \n",
      " \n",
      "Not for the first time, an argument had broken out over brea\n"
     ]
    }
   ],
   "source": [
    "with open(\"datasets/harryPotter.txt\", \"r\", encoding=\"utf-8\") as f:\n",
    "    raw_text = f.read()\n",
    "\n",
    "print(\"The total number of characters: \", len(raw_text))\n",
    "print(raw_text[:99])"
   ]
  },
  {
   "cell_type": "markdown",
   "id": "51ddf924-6d67-4087-9168-1295d30bf1ae",
   "metadata": {},
   "source": [
    "**The total number of characters in this document is around 506,147 and the first 100 characters are displayed**"
   ]
  },
  {
   "cell_type": "markdown",
   "id": "440abab9-6179-4ffe-899e-50cc3b33efeb",
   "metadata": {},
   "source": [
    "### Step 2: Converting the characters into tokens [Example]"
   ]
  },
  {
   "cell_type": "markdown",
   "id": "01ed7b04-c1f1-401d-bc1d-02e756a327b9",
   "metadata": {},
   "source": [
    "<div style=\"background-color: lightgreen; color: green; padding: 10px; border-radius: 5px;\">\n",
    "    Using an example dataset before converting the whole book.\n",
    "</div>"
   ]
  },
  {
   "cell_type": "code",
   "execution_count": 58,
   "id": "776a7279-dfe1-410e-927c-2380bc829af0",
   "metadata": {},
   "outputs": [],
   "source": [
    "# Importing the regular expression package\n",
    "import re"
   ]
  },
  {
   "cell_type": "code",
   "execution_count": 59,
   "id": "38c89f8b-8a99-4c42-b9d7-4295327c2d86",
   "metadata": {},
   "outputs": [
    {
     "name": "stdout",
     "output_type": "stream",
     "text": [
      "['Hello,', ' ', 'World!']\n"
     ]
    }
   ],
   "source": [
    "text = \"Hello, World!\"\n",
    "text = re.split(r'(\\s)', text)\n",
    "print(text)"
   ]
  },
  {
   "cell_type": "markdown",
   "id": "b7352a64-3f0c-4da8-963e-3587552c5a5c",
   "metadata": {},
   "source": [
    "**This splits the entire sentence giving us three words: Hello, whitespace, World!**"
   ]
  },
  {
   "cell_type": "markdown",
   "id": "ed147a6a-90db-4f85-a820-ea285305e62d",
   "metadata": {},
   "source": [
    "<div style=\"background-color: lightgreen; color: green; padding: 10px; border-radius: 5px;\">\n",
    "    Modifying regular expression to include special characters like commas and periods\n",
    "</div>"
   ]
  },
  {
   "cell_type": "code",
   "execution_count": 60,
   "id": "359d1aab-4584-4d2e-bf4b-44b879953b09",
   "metadata": {},
   "outputs": [
    {
     "name": "stdout",
     "output_type": "stream",
     "text": [
      "['Hello', ',', '', ' ', 'World', '.', '', ' ', 'This', ',', '', ' ', 'is', ' ', 'a', ' ', 'test', '.', '']\n"
     ]
    }
   ],
   "source": [
    "text = \"Hello, World. This, is a test.\"\n",
    "text = re.split(r'([.,]|\\s)', text)\n",
    "print(text)"
   ]
  },
  {
   "cell_type": "markdown",
   "id": "4bad9591-2a0f-4f17-817e-d865f2778836",
   "metadata": {},
   "source": [
    "**Now, this splits the sentences with whitespace or special characters.**"
   ]
  },
  {
   "cell_type": "markdown",
   "id": "5af1bb64-350e-4c06-8ba9-b4b3632ef2ce",
   "metadata": {},
   "source": [
    "<div style=\"background-color: lightgreen; color: green; padding: 10px; border-radius: 5px;\">\n",
    "    Removing the redundant whitespace, many include whitespace as characters but removing it helps to reduce the size or memory of the text data.\n",
    "</div>"
   ]
  },
  {
   "cell_type": "code",
   "execution_count": 61,
   "id": "925ec4bd-28c9-45b9-987d-825ba7dee70f",
   "metadata": {},
   "outputs": [
    {
     "name": "stdout",
     "output_type": "stream",
     "text": [
      "['Hello', ',', 'World', '.', 'This', ',', 'is', 'a', 'test', '.']\n"
     ]
    }
   ],
   "source": [
    "result = [item for item in text if item.strip()]\n",
    "print(result)"
   ]
  },
  {
   "cell_type": "markdown",
   "id": "7b782eea-23b4-432f-a888-a9b44f258cde",
   "metadata": {},
   "source": [
    "**This helps to remove the redundant whitespaces properly**"
   ]
  },
  {
   "cell_type": "markdown",
   "id": "db04489d-16d0-4901-a6f9-2aedf5b8051a",
   "metadata": {},
   "source": [
    "<div style=\"background-color: lightgreen; color: green; padding: 10px; border-radius: 5px;\">\n",
    "    Modifying The Regular Expression to include all of the special characters in the text\n",
    "</div>"
   ]
  },
  {
   "cell_type": "code",
   "execution_count": 62,
   "id": "3b7d6ced-563a-45ce-b28c-0175058bfef1",
   "metadata": {},
   "outputs": [
    {
     "name": "stdout",
     "output_type": "stream",
     "text": [
      "['Hello', ',', 'world', '.', 'Is', 'this', '--', 'a', 'test', '?']\n"
     ]
    }
   ],
   "source": [
    "text= \"Hello, world. Is this-- a test?\"\n",
    "text = re.split(r'([,.:;?_!\"()\\']|--|\\s)', text)\n",
    "result = [item.strip() for item in text if item.strip()]\n",
    "print(result)"
   ]
  },
  {
   "cell_type": "markdown",
   "id": "95d5b39c-a6b9-4a8c-af4b-11fb0a44c82a",
   "metadata": {},
   "source": [
    "**This is the actual way of creating tokens from a dataset.**"
   ]
  },
  {
   "cell_type": "markdown",
   "id": "28e46bd1-f635-4005-a340-94f6f7b6d547",
   "metadata": {},
   "source": [
    "### Step 3: Converting the characters into tokens [Actual Data]"
   ]
  },
  {
   "cell_type": "markdown",
   "id": "bc6c2832-3dc3-4e2f-b53e-f785986cc0d4",
   "metadata": {},
   "source": [
    "<div style=\"background-color: lightgreen; color: green; padding: 10px; border-radius: 5px;\">\n",
    "    Now, Creating tokens for the entire dataset of Harry Potter\n",
    "</div>"
   ]
  },
  {
   "cell_type": "code",
   "execution_count": 63,
   "id": "67488f40-394b-4de1-bdbd-b69af60b0016",
   "metadata": {},
   "outputs": [
    {
     "name": "stdout",
     "output_type": "stream",
     "text": [
      "The new total number of characters  107171\n",
      "['CHAPTER', 'ONE', 'THEWORSTBIRTHDAY', 'Not', 'for', 'the', 'first', 'time', ',', 'an', 'argument', 'had', 'broken', 'out', 'over', 'breakfast', 'at', 'number', 'four', ',', 'Privet', 'Drive', '.', 'Mr', '.', 'Vernon', 'Dursley', 'had', 'been', 'woken', 'in', 'the', 'early', 'hours', 'of', 'the', 'morning', 'by', 'a', 'loud', ',', 'hooting', 'noise', 'from', 'his', 'nephewHarry', \"'\", 'sroom', '.', '\"', 'Thirdtimethisweek', '!', '\"', 'heroaredacrossthetable', '.', '\"', 'Ifyoucan', \"'\", 't', 'controlthatowl', ',', 'it', \"'\", 'llhavetogo', '!', '\"', 'Harry', 'tried', ',', 'yet', 'again', ',', 'to', 'explain', '.', '\"', 'She', \"'\", 's', 'bored', ',', '\"', 'he', 'said', '.', '\"', 'She', \"'\", 's', 'used', 'to', 'flying', 'aroun', 'd', 'outside', '.', 'If', 'I', 'could']\n"
     ]
    }
   ],
   "source": [
    "preProcessed = re.split(r'([,.:;?_!\"()\\']|--|\\s)', raw_text)\n",
    "# Cleaning the entire data\n",
    "preProcessed = [item.strip() for item in preProcessed if item.strip()]\n",
    "print('The new total number of characters ', len(preProcessed))\n",
    "print(preProcessed[:99])"
   ]
  },
  {
   "cell_type": "markdown",
   "id": "41532716-4945-4e48-a48d-d5dd21ea1a7c",
   "metadata": {},
   "source": [
    "**The new total characters after data cleaning is 107,171 and the first 100 characters are displayed**"
   ]
  },
  {
   "cell_type": "markdown",
   "id": "d9386163-28e6-4036-8ef1-f64d4ef7f95c",
   "metadata": {},
   "source": [
    "### Step 4: Creating Vocabulary"
   ]
  },
  {
   "cell_type": "markdown",
   "id": "90739416-8eef-48b5-8c8f-4a06fb1f4051",
   "metadata": {},
   "source": [
    "<div style=\"background-color: lightgreen; color: green; padding: 10px; border-radius: 5px;\">\n",
    "    For Vocabulary all the words should be sorted and unique\n",
    "</div>"
   ]
  },
  {
   "cell_type": "code",
   "execution_count": 64,
   "id": "0e63cb9e-c945-45ea-a0af-d073c89039bc",
   "metadata": {},
   "outputs": [
    {
     "name": "stdout",
     "output_type": "stream",
     "text": [
      "10686\n"
     ]
    }
   ],
   "source": [
    "all_words = sorted(set(preProcessed))\n",
    "print(len(all_words))"
   ]
  },
  {
   "cell_type": "markdown",
   "id": "5dccfed0-607e-4fd0-ad98-b7a0c0359915",
   "metadata": {},
   "source": [
    "**The total number of unique words used in this book: 10,686**"
   ]
  },
  {
   "cell_type": "code",
   "execution_count": 66,
   "id": "896a1f7e-42f2-459a-b262-00b211d56d8c",
   "metadata": {},
   "outputs": [
    {
     "name": "stdout",
     "output_type": "stream",
     "text": [
      "('!', 0)\n",
      "('\"', 1)\n",
      "(\"'\", 2)\n",
      "('(', 3)\n",
      "(')', 4)\n",
      "('*148*', 5)\n",
      "('*247*', 6)\n",
      "('*300*', 7)\n",
      "('*339*', 8)\n",
      "('*light', 9)\n",
      "(',', 10)\n",
      "('-', 11)\n",
      "('--', 12)\n",
      "('.', 13)\n",
      "('1', 14)\n",
      "('13', 15)\n",
      "('1492', 16)\n",
      "('1875', 17)\n",
      "('2', 18)\n",
      "('3', 19)\n",
      "('30P', 20)\n",
      "('51', 21)\n",
      "('54', 22)\n",
      "(':', 23)\n",
      "(';', 24)\n",
      "('=', 25)\n",
      "('?', 26)\n",
      "('A', 27)\n",
      "('ABNORMALITY', 28)\n",
      "('ABOUTSAYINGTHE`M', 29)\n",
      "('ABSOLUTELYDISGUSTED', 30)\n",
      "('AM', 31)\n",
      "('AN', 32)\n",
      "('AND', 33)\n",
      "('ANGLIA', 34)\n",
      "('ANOTHER', 35)\n",
      "('AT', 36)\n",
      "('ATFL0VRISHANDBLOTTS', 37)\n",
      "('ATTAAAACK', 38)\n",
      "('ATTACK', 39)\n",
      "('Aaargh', 40)\n",
      "('About', 41)\n",
      "('Abyssinian', 42)\n",
      "('According', 43)\n",
      "('Act', 44)\n",
      "('Add', 45)\n",
      "('Adrian', 46)\n",
      "('Adventures', 47)\n",
      "('After', 48)\n",
      "('Afterahurriedlunch', 49)\n",
      "('Aftertennoisy', 50)\n"
     ]
    }
   ],
   "source": [
    "vocab = {token: integer for integer, token in enumerate(all_words)}\n",
    "for i,item in enumerate(vocab.items()):\n",
    "    print(item)\n",
    "    if i >= 50:\n",
    "        break"
   ]
  },
  {
   "cell_type": "markdown",
   "id": "03f793f6-c780-453e-b6d3-6889fe4f687e",
   "metadata": {},
   "source": [
    "### Step 5: Creating Tokenizer Class"
   ]
  },
  {
   "cell_type": "markdown",
   "id": "775fc02b-4f43-4570-b86d-7e731eaf9e68",
   "metadata": {},
   "source": [
    "<div style=\"background-color: lightgreen; color: green; padding: 10px; border-radius: 5px;\">\n",
    "    Tokenizer Class Includes Encoder And Decoder Logic\n",
    "</div>"
   ]
  },
  {
   "cell_type": "code",
   "execution_count": 69,
   "id": "11f1de5e-cbea-43ce-8103-55c137905296",
   "metadata": {},
   "outputs": [],
   "source": [
    "class simple_tokenizer_v1:\n",
    "    # Constructor class\n",
    "    def __init__ (self, vocab):\n",
    "        self.str_to_int = vocab\n",
    "        self.int_to_str = {integer:string for string,integer in vocab.items()}\n",
    "    # Encoder\n",
    "    def encode (self, text):\n",
    "        preProcessed = re.split(r'([,.;:?!_\"()\\'])|--|\\s', text)\n",
    "        preProcessed = [item.strip() for item in preProcessed if item and item.strip()]\n",
    "        ids = [self.str_to_int[s] for s in preProcessed]\n",
    "        return ids\n",
    "    # decoder\n",
    "    def decode (self, ids):\n",
    "        text = (\" \").join([self.int_to_str[i] for i in ids])\n",
    "        text = re.sub(r'\\s+([,.;:?!_\"()\\'])', r'\\1', text)\n",
    "        return text"
   ]
  },
  {
   "cell_type": "code",
   "execution_count": 70,
   "id": "be70d347-b55c-4980-9644-4b7fb0bd691c",
   "metadata": {},
   "outputs": [
    {
     "data": {
      "text/plain": [
       "[1594,\n",
       " 1196,\n",
       " 10578,\n",
       " 2952,\n",
       " 9988,\n",
       " 9729,\n",
       " 7881,\n",
       " 6861,\n",
       " 10611,\n",
       " 4376,\n",
       " 10,\n",
       " 2975,\n",
       " 5465,\n",
       " 6842,\n",
       " 9729,\n",
       " 5233,\n",
       " 2874,\n",
       " 2534,\n",
       " 5133,\n",
       " 5605,\n",
       " 6577,\n",
       " 2890,\n",
       " 13,\n",
       " 1623,\n",
       " 2352,\n",
       " 4776,\n",
       " 6973,\n",
       " 9494,\n",
       " 9410,\n",
       " 6013,\n",
       " 5826,\n",
       " 9494,\n",
       " 3564,\n",
       " 9481,\n",
       " 5300,\n",
       " 9611,\n",
       " 6858,\n",
       " 13]"
      ]
     },
     "execution_count": 70,
     "metadata": {},
     "output_type": "execute_result"
    }
   ],
   "source": [
    "tokenizer = simple_tokenizer_v1(vocab)\n",
    "text = \"\"\"Professor Lockhart would be unable to return next y\n",
    "ear, because he needed to go away and get his memory back. Quite a few\n",
    " \n",
    "of the teachers joined in the cheering that greeted this news.\"\"\"\n",
    "tokenizer.encode(text)"
   ]
  },
  {
   "cell_type": "markdown",
   "id": "93895b4a-6ae9-44f5-966a-1982bdb17c7b",
   "metadata": {},
   "source": [
    "**The encoder is encoding the entire paragraph assigning each character a unique tokenId according to vocab**"
   ]
  },
  {
   "cell_type": "code",
   "execution_count": 71,
   "id": "fc5f2361-80f9-4bda-adda-11a54036dc5f",
   "metadata": {},
   "outputs": [
    {
     "data": {
      "text/plain": [
       "'Professor Lockhart would be unable to return next y ear, because he needed to go away and get his memory back. Quite a few of the teachers joined in the cheering that greeted this news.'"
      ]
     },
     "execution_count": 71,
     "metadata": {},
     "output_type": "execute_result"
    }
   ],
   "source": [
    "tokenizer.decode(tokenizer.encode(text))"
   ]
  },
  {
   "cell_type": "markdown",
   "id": "d2d13694-a4f2-4b52-b546-bea7a27e154d",
   "metadata": {},
   "source": [
    "**The decoder is decoding the entire paragraph from the list of token Ids**"
   ]
  },
  {
   "cell_type": "markdown",
   "id": "5f213650-a90d-49cd-aed3-6f89b0baf895",
   "metadata": {},
   "source": [
    "### Step 6: The Problem of Tokenizer Class"
   ]
  },
  {
   "cell_type": "markdown",
   "id": "31a2f1a3-ca4c-4073-9ed2-5bc93fd9bb73",
   "metadata": {},
   "source": [
    "<div style=\"background-color: lightgreen; color: green; padding: 10px; border-radius: 5px;\">\n",
    "    The text to be encoded must belong to a vocabulary, if we assign a unique words the class will fail to encode.\n",
    "</div>"
   ]
  },
  {
   "cell_type": "code",
   "execution_count": 75,
   "id": "b7b860a5-49c4-4d87-bd35-c9e220a6e12e",
   "metadata": {},
   "outputs": [
    {
     "ename": "KeyError",
     "evalue": "'robotic'",
     "output_type": "error",
     "traceback": [
      "\u001b[1;31m---------------------------------------------------------------------------\u001b[0m",
      "\u001b[1;31mKeyError\u001b[0m                                  Traceback (most recent call last)",
      "Cell \u001b[1;32mIn[75], line 2\u001b[0m\n\u001b[0;32m      1\u001b[0m text \u001b[38;5;241m=\u001b[39m \u001b[38;5;124m\"\u001b[39m\u001b[38;5;124mThe robotic llama danced gracefully across the moonlit ice rink, humming an old jazz tune from Mars.\u001b[39m\u001b[38;5;124m\"\u001b[39m\n\u001b[1;32m----> 2\u001b[0m \u001b[43mtokenizer\u001b[49m\u001b[38;5;241;43m.\u001b[39;49m\u001b[43mencode\u001b[49m\u001b[43m(\u001b[49m\u001b[43mtext\u001b[49m\u001b[43m)\u001b[49m\n",
      "Cell \u001b[1;32mIn[69], line 10\u001b[0m, in \u001b[0;36msimple_tokenizer_v1.encode\u001b[1;34m(self, text)\u001b[0m\n\u001b[0;32m      8\u001b[0m preProcessed \u001b[38;5;241m=\u001b[39m re\u001b[38;5;241m.\u001b[39msplit(\u001b[38;5;124mr\u001b[39m\u001b[38;5;124m'\u001b[39m\u001b[38;5;124m([,.;:?!_\u001b[39m\u001b[38;5;124m\"\u001b[39m\u001b[38;5;124m()\u001b[39m\u001b[38;5;130;01m\\'\u001b[39;00m\u001b[38;5;124m])|--|\u001b[39m\u001b[38;5;124m\\\u001b[39m\u001b[38;5;124ms\u001b[39m\u001b[38;5;124m'\u001b[39m, text)\n\u001b[0;32m      9\u001b[0m preProcessed \u001b[38;5;241m=\u001b[39m [item\u001b[38;5;241m.\u001b[39mstrip() \u001b[38;5;28;01mfor\u001b[39;00m item \u001b[38;5;129;01min\u001b[39;00m preProcessed \u001b[38;5;28;01mif\u001b[39;00m item \u001b[38;5;129;01mand\u001b[39;00m item\u001b[38;5;241m.\u001b[39mstrip()]\n\u001b[1;32m---> 10\u001b[0m ids \u001b[38;5;241m=\u001b[39m [\u001b[38;5;28mself\u001b[39m\u001b[38;5;241m.\u001b[39mstr_to_int[s] \u001b[38;5;28;01mfor\u001b[39;00m s \u001b[38;5;129;01min\u001b[39;00m preProcessed]\n\u001b[0;32m     11\u001b[0m \u001b[38;5;28;01mreturn\u001b[39;00m ids\n",
      "Cell \u001b[1;32mIn[69], line 10\u001b[0m, in \u001b[0;36m<listcomp>\u001b[1;34m(.0)\u001b[0m\n\u001b[0;32m      8\u001b[0m preProcessed \u001b[38;5;241m=\u001b[39m re\u001b[38;5;241m.\u001b[39msplit(\u001b[38;5;124mr\u001b[39m\u001b[38;5;124m'\u001b[39m\u001b[38;5;124m([,.;:?!_\u001b[39m\u001b[38;5;124m\"\u001b[39m\u001b[38;5;124m()\u001b[39m\u001b[38;5;130;01m\\'\u001b[39;00m\u001b[38;5;124m])|--|\u001b[39m\u001b[38;5;124m\\\u001b[39m\u001b[38;5;124ms\u001b[39m\u001b[38;5;124m'\u001b[39m, text)\n\u001b[0;32m      9\u001b[0m preProcessed \u001b[38;5;241m=\u001b[39m [item\u001b[38;5;241m.\u001b[39mstrip() \u001b[38;5;28;01mfor\u001b[39;00m item \u001b[38;5;129;01min\u001b[39;00m preProcessed \u001b[38;5;28;01mif\u001b[39;00m item \u001b[38;5;129;01mand\u001b[39;00m item\u001b[38;5;241m.\u001b[39mstrip()]\n\u001b[1;32m---> 10\u001b[0m ids \u001b[38;5;241m=\u001b[39m [\u001b[38;5;28;43mself\u001b[39;49m\u001b[38;5;241;43m.\u001b[39;49m\u001b[43mstr_to_int\u001b[49m\u001b[43m[\u001b[49m\u001b[43ms\u001b[49m\u001b[43m]\u001b[49m \u001b[38;5;28;01mfor\u001b[39;00m s \u001b[38;5;129;01min\u001b[39;00m preProcessed]\n\u001b[0;32m     11\u001b[0m \u001b[38;5;28;01mreturn\u001b[39;00m ids\n",
      "\u001b[1;31mKeyError\u001b[0m: 'robotic'"
     ]
    }
   ],
   "source": [
    "text = \"The robotic llama danced gracefully across the moonlit ice rink, humming an old jazz tune from Mars.\"\n",
    "tokenizer.encode(text)"
   ]
  },
  {
   "cell_type": "markdown",
   "id": "d2b110bc-ff50-4c60-833f-7c03458beb0a",
   "metadata": {},
   "source": [
    "**Hence to resolve this error we insert two additional tokens: <|unk|> and <|endoftext|>**"
   ]
  },
  {
   "cell_type": "markdown",
   "id": "34178233-a27f-48b9-9b99-e3cc2570875a",
   "metadata": {},
   "source": [
    "<div style=\"background-color: blue; color: white; padding: 10px; border-radius: 5px;\">\n",
    "    unk: Unknown token, used if there is any unknown character or token in the vocab like: Tea\n",
    "    endoftext: This token, is used specially by GPT to specify that the new source of text is used and this marks the end of any text source.\n",
    "    GPT doesn't use unk token but has own tokenizer called Byte Pair Encoding which converts the subwords into a token instead of a single word.\n",
    "</div>"
   ]
  },
  {
   "cell_type": "markdown",
   "id": "55eaec3e-0e82-455c-bc60-4d8223d5769c",
   "metadata": {},
   "source": [
    "### Step 7: Special Context Tokens"
   ]
  },
  {
   "cell_type": "markdown",
   "id": "bf694850-3160-4f82-9f8c-7a37e4ae433e",
   "metadata": {},
   "source": [
    "<div style=\"background-color: lightgreen; color: green; padding: 10px; border-radius: 5px;\">\n",
    "    Adding two new tokens to the vocabulary\n",
    "</div>"
   ]
  },
  {
   "cell_type": "code",
   "execution_count": 73,
   "id": "47f90a17-5e68-40f7-8db2-1af9f7c29833",
   "metadata": {},
   "outputs": [
    {
     "name": "stdout",
     "output_type": "stream",
     "text": [
      "('zing', 10683)\n",
      "('zoo', 10684)\n",
      "('zoomed', 10685)\n",
      "('<|endoftext|>', 10686)\n",
      "('<|unk|>', 10687)\n"
     ]
    }
   ],
   "source": [
    "all_tokens = sorted(list(set(preProcessed)))\n",
    "all_tokens.extend([\"<|endoftext|>\", \"<|unk|>\"])\n",
    "vocab = {string:integer for integer, string in enumerate(all_tokens)}\n",
    "len(vocab.items())\n",
    "for i, item in enumerate(list(vocab.items())[-5:]):\n",
    "    print(item)"
   ]
  },
  {
   "cell_type": "markdown",
   "id": "37c0c257-22a1-4ddc-b623-a3d0f4a3467d",
   "metadata": {},
   "source": [
    "**The total number of unique words used in this book: 10,688 by adding two new tokens**"
   ]
  },
  {
   "cell_type": "code",
   "execution_count": 74,
   "id": "3f7e178d-56a7-48d0-b54a-e8eb35b7eb36",
   "metadata": {},
   "outputs": [],
   "source": [
    "class simple_tokenizer_v2:\n",
    "    def __init__ (self, vocab):\n",
    "        self.str_to_int = vocab\n",
    "        self.int_to_str = {i:s for s,i in vocab.items()}\n",
    "    # Modified Encoder Logic\n",
    "    def encode (self, text):\n",
    "        preProcessed = re.split(r'([,.;:?!_\"()\\']|--|\\s)', text)\n",
    "        preProcessed = [item.strip() for item in preProcessed if item and item.strip()]\n",
    "        preProcessed = [item if item in self.str_to_int\n",
    "                       else \"<|unk|>\" for item in preProcessed\n",
    "                       ]\n",
    "        ids = [self.str_to_int[s] for s in preProcessed]\n",
    "        return ids\n",
    "    # Same Decoder Logic\n",
    "    def decode (self, ids):\n",
    "        text = (\" \").join([self.int_to_str[i] for i in ids])\n",
    "        text = re.sub(r'\\s+([,.;:?!_\"()\\'])', r'\\1', text)\n",
    "        return text"
   ]
  },
  {
   "cell_type": "code",
   "execution_count": 76,
   "id": "6cecfefd-e234-4c47-b805-22123323533d",
   "metadata": {},
   "outputs": [
    {
     "data": {
      "text/plain": [
       "[1940,\n",
       " 10687,\n",
       " 10687,\n",
       " 10687,\n",
       " 10687,\n",
       " 2396,\n",
       " 9494,\n",
       " 6690,\n",
       " 5755,\n",
       " 10687,\n",
       " 10,\n",
       " 5724,\n",
       " 2531,\n",
       " 6995,\n",
       " 10687,\n",
       " 10687,\n",
       " 5040,\n",
       " 10687,\n",
       " 13]"
      ]
     },
     "execution_count": 76,
     "metadata": {},
     "output_type": "execute_result"
    }
   ],
   "source": [
    "tokenizer = simple_tokenizer_v2(vocab)\n",
    "text = \"The robotic llama danced gracefully across the moonlit ice rink, humming an old jazz tune from Mars.\"\n",
    "tokenizer.encode(text)"
   ]
  },
  {
   "cell_type": "code",
   "execution_count": 77,
   "id": "cbb5bfe2-74f0-4d29-a03c-f36be571c347",
   "metadata": {},
   "outputs": [
    {
     "data": {
      "text/plain": [
       "'The <|unk|> <|unk|> <|unk|> <|unk|> across the moonlit ice <|unk|>, humming an old <|unk|> <|unk|> from <|unk|>.'"
      ]
     },
     "execution_count": 77,
     "metadata": {},
     "output_type": "execute_result"
    }
   ],
   "source": [
    "tokenizer.decode(tokenizer.encode(text))"
   ]
  },
  {
   "cell_type": "markdown",
   "id": "bc30fe23-5322-4964-b568-bf0714ff34fc",
   "metadata": {},
   "source": [
    "**Using The <|endoftext|> token**"
   ]
  },
  {
   "cell_type": "code",
   "execution_count": 80,
   "id": "e9807567-c833-4a8e-a815-0af62744ecc3",
   "metadata": {},
   "outputs": [
    {
     "name": "stdout",
     "output_type": "stream",
     "text": [
      "Professor Lockhart would be unable to return next y\n",
      "ear, owing to the \n",
      "fact that he needed to go away and get his memory back. Quite a few \n",
      "of the teachers joined in the cheering that greeted this news.<|endoftext|> Shame, said Ron, helping himself to a jam doughnut. He was \n",
      "starting to grow on me.\n"
     ]
    }
   ],
   "source": [
    "# First Source Of Text\n",
    "text1 = \"\"\"Professor Lockhart would be unable to return next y\n",
    "ear, owing to the \n",
    "fact that he needed to go away and get his memory back. Quite a few \n",
    "of the teachers joined in the cheering that greeted this news.\"\"\"\n",
    "# Second Source of Text\n",
    "text2 = \"\"\"Shame, said Ron, helping himself to a jam doughnut. He was \n",
    "starting to grow on me.\"\"\"\n",
    "# Joining The Both Text\n",
    "text = \"<|endoftext|> \".join((text1, text2))\n",
    "print(text)"
   ]
  },
  {
   "cell_type": "markdown",
   "id": "557f060a-e6dc-40ec-a97a-f3132e7a1aed",
   "metadata": {},
   "source": [
    "**The proper intended use of the token.**"
   ]
  },
  {
   "cell_type": "code",
   "execution_count": 82,
   "id": "ebe3c4f5-f8a5-43c5-bdd7-208cc6b0b616",
   "metadata": {},
   "outputs": [
    {
     "data": {
      "text/plain": [
       "[1594,\n",
       " 1196,\n",
       " 10578,\n",
       " 2952,\n",
       " 9988,\n",
       " 9729,\n",
       " 7881,\n",
       " 6861,\n",
       " 10611,\n",
       " 4376,\n",
       " 10,\n",
       " 7146,\n",
       " 9729,\n",
       " 9494,\n",
       " 4674,\n",
       " 9481,\n",
       " 5465,\n",
       " 6842,\n",
       " 9729,\n",
       " 5233,\n",
       " 2874,\n",
       " 2534,\n",
       " 5133,\n",
       " 5605,\n",
       " 6577,\n",
       " 2890,\n",
       " 13,\n",
       " 1623,\n",
       " 2352,\n",
       " 4776,\n",
       " 6973,\n",
       " 9494,\n",
       " 9410,\n",
       " 6013,\n",
       " 5826,\n",
       " 9494,\n",
       " 3564,\n",
       " 9481,\n",
       " 5300,\n",
       " 9611,\n",
       " 6858,\n",
       " 13,\n",
       " 10686,\n",
       " 1769,\n",
       " 10,\n",
       " 8076,\n",
       " 1665,\n",
       " 10,\n",
       " 5533,\n",
       " 5596,\n",
       " 9729,\n",
       " 2352,\n",
       " 5993,\n",
       " 4236,\n",
       " 13,\n",
       " 829,\n",
       " 10267,\n",
       " 9026,\n",
       " 9729,\n",
       " 5328,\n",
       " 7011,\n",
       " 6547,\n",
       " 13]"
      ]
     },
     "execution_count": 82,
     "metadata": {},
     "output_type": "execute_result"
    }
   ],
   "source": [
    "tokenizer.encode(text)"
   ]
  },
  {
   "cell_type": "markdown",
   "id": "b5cef3cc-458f-4b82-afd5-2f81cd58c48d",
   "metadata": {},
   "source": [
    "**The list of tokenIds will contain the id of endoftext token**"
   ]
  },
  {
   "cell_type": "code",
   "execution_count": 83,
   "id": "efed77bb-d685-4381-991d-68e671dac81c",
   "metadata": {},
   "outputs": [
    {
     "data": {
      "text/plain": [
       "'Professor Lockhart would be unable to return next y ear, owing to the fact that he needed to go away and get his memory back. Quite a few of the teachers joined in the cheering that greeted this news. <|endoftext|> Shame, said Ron, helping himself to a jam doughnut. He was starting to grow on me.'"
      ]
     },
     "execution_count": 83,
     "metadata": {},
     "output_type": "execute_result"
    }
   ],
   "source": [
    "tokenizer.decode(tokenizer.encode(text))"
   ]
  },
  {
   "cell_type": "markdown",
   "id": "01279323-747d-4311-b7db-e0fe641b9b34",
   "metadata": {},
   "source": [
    "**The decoded sentence includes the endoftext token**"
   ]
  }
 ],
 "metadata": {
  "kernelspec": {
   "display_name": "Python 3 (ipykernel)",
   "language": "python",
   "name": "python3"
  },
  "language_info": {
   "codemirror_mode": {
    "name": "ipython",
    "version": 3
   },
   "file_extension": ".py",
   "mimetype": "text/x-python",
   "name": "python",
   "nbconvert_exporter": "python",
   "pygments_lexer": "ipython3",
   "version": "3.10.4"
  }
 },
 "nbformat": 4,
 "nbformat_minor": 5
}
